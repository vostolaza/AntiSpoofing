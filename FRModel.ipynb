{
 "cells": [
  {
   "cell_type": "code",
   "execution_count": 1,
   "id": "f99bd436",
   "metadata": {},
   "outputs": [
    {
     "name": "stderr",
     "output_type": "stream",
     "text": [
      "/home/freewer/anaconda3/envs/bigdata-2022-2/lib/python3.9/site-packages/tqdm/auto.py:22: TqdmWarning: IProgress not found. Please update jupyter and ipywidgets. See https://ipywidgets.readthedocs.io/en/stable/user_install.html\n",
      "  from .autonotebook import tqdm as notebook_tqdm\n"
     ]
    }
   ],
   "source": [
    "import cv2\n",
    "import matplotlib.pyplot as plt\n",
    "import numpy as np\n",
    "import os\n",
    "from tqdm import tqdm\n",
    "from PIL import Image\n",
    "import torch\n",
    "import torch.nn as nn\n",
    "import torchvision.transforms as T\n",
    "import face_recognition\n",
    "from itertools import compress"
   ]
  },
  {
   "cell_type": "code",
   "execution_count": 182,
   "id": "ce91c451",
   "metadata": {},
   "outputs": [],
   "source": [
    "train_path = \"CASIA_faceAntisp/train_release\"\n",
    "test_path = \"CASIA_faceAntisp/test_release\"\n",
    "\n",
    "dim = 128"
   ]
  },
  {
   "cell_type": "code",
   "execution_count": 5,
   "id": "c1b67974",
   "metadata": {},
   "outputs": [],
   "source": [
    "def get_training_subject(path, samples_per_video):\n",
    "    real_videos = ['1.avi', '2.avi', 'HR_1.avi', 'HR_4.avi']\n",
    "    subject = []\n",
    "    target = []\n",
    "    face_cascade = cv2.CascadeClassifier('haarcascade_frontalface_default.xml')\n",
    "    for dir in os.listdir(os.path.join(path)):\n",
    "        cap = cv2.VideoCapture(os.path.join(path, dir))\n",
    "        resampling_rate = int(cap.get(cv2.CAP_PROP_FRAME_COUNT) / samples_per_video)\n",
    "        count = 0\n",
    "        failed = False\n",
    "        while cap.isOpened():\n",
    "            success, frame = cap.read()\n",
    "            if success and (failed or (count%resampling_rate == 0)):\n",
    "                img = cv2.cvtColor(frame, cv2.COLOR_BGR2RGB)\n",
    "                faces = face_cascade.detectMultiScale(img, 1.1, 4)\n",
    "                if len(faces) != 1:\n",
    "                    failed = True\n",
    "                    continue\n",
    "                (x, y, w, h) = faces[0]\n",
    "                subject.append(torch.Tensor(cv2.resize(img[y:y+h,x:x+w], dsize=(dim,dim))))\n",
    "                target.append(1 if dir in real_videos else 0)\n",
    "                failed = False\n",
    "            elif not success:\n",
    "                break\n",
    "            count += 1\n",
    "    return subject, target\n",
    "\n",
    "def read_training_files(path, samples_per_video=16):\n",
    "    features = []\n",
    "    targets = []\n",
    "    features_fr = []\n",
    "    targets_fr = []\n",
    "    for person in tqdm(os.listdir(path)):\n",
    "        f, t = get_training_subject(os.path.join(path,person), samples_per_video)\n",
    "        features += f\n",
    "        targets += t\n",
    "        for f_fr, t_fr in zip(f, t):\n",
    "            if t_fr:\n",
    "                features_fr.append(face_recognition.face_encodings(f_fr.numpy().astype('uint8'),\n",
    "                                    [(0,0,dim,dim)])[0])\n",
    "                targets_fr.append(person)\n",
    "    return features, targets, features_fr, targets_fr"
   ]
  },
  {
   "cell_type": "code",
   "execution_count": 113,
   "id": "4139d7c9",
   "metadata": {},
   "outputs": [
    {
     "name": "stderr",
     "output_type": "stream",
     "text": [
      "100%|██████████| 20/20 [09:14<00:00, 27.74s/it]\n"
     ]
    }
   ],
   "source": [
    "## Hacer pruebas en 2 o 4 samples\n",
    "train_features, train_targets, train_features_fr, train_targets_fr = read_training_files(train_path, samples_per_video=16)"
   ]
  },
  {
   "cell_type": "code",
   "execution_count": 183,
   "id": "e1854673",
   "metadata": {},
   "outputs": [
    {
     "name": "stderr",
     "output_type": "stream",
     "text": [
      "100%|██████████| 30/30 [13:03<00:00, 26.10s/it]\n"
     ]
    }
   ],
   "source": [
    "test_features, test_targets, test_features_fr, test_targets_fr = read_training_files(test_path, samples_per_video=16)"
   ]
  },
  {
   "cell_type": "code",
   "execution_count": 214,
   "id": "8a7074c5",
   "metadata": {},
   "outputs": [
    {
     "data": {
      "image/png": "[encoded data removed]",
      "text/plain": [
       "<PIL.Image.Image image mode=RGB size=128x128>"
      ]
     },
     "execution_count": 214,
     "metadata": {},
     "output_type": "execute_result"
    }
   ],
   "source": [
    "T.ToPILImage()(train_features[0])"
   ]
  },
  {
   "cell_type": "markdown",
   "id": "0b0cfd6a",
   "metadata": {},
   "source": [
    "## Modelo de Reconocimiento Facial"
   ]
  },
  {
   "cell_type": "code",
   "execution_count": 210,
   "id": "0b218169",
   "metadata": {},
   "outputs": [],
   "source": [
    "class face_recognition_model:\n",
    "    def __init__(self, features, targets):\n",
    "        self.features = features\n",
    "        self.targets = targets\n",
    "        self.face_cascade = cv2.CascadeClassifier('haarcascade_frontalface_default.xml')\n",
    "\n",
    "    def recognize(self, face, threeshold=0.23, min_representation=0.75, min_found=2, skip_same=False):\n",
    "        possible_iden = []\n",
    "        for iden, feat in zip(self.targets, self.features):\n",
    "            dist = face_recognition.face_distance(np.array([feat]), np.array([face]))[0]\n",
    "            if skip_same and dist == 0:\n",
    "                continue\n",
    "            if dist < threeshold:\n",
    "                possible_iden.append(iden)\n",
    "        if len(possible_iden) == 0:\n",
    "            return 'no_identity: not found'\n",
    "        if len(possible_iden) < min_found:\n",
    "            return 'no_identity: under minimum'\n",
    "        _, index, count = np.unique(np.array(possible_iden), return_index=True, return_counts=True)\n",
    "        mode_index = np.argmax(count)\n",
    "        if count[mode_index]/count.shape[0] < min_representation:\n",
    "            return 'no_identity: under representation'\n",
    "        return possible_iden[index[mode_index]]\n",
    "\n",
    "    def add(self, feature, target):\n",
    "        self.features += feature\n",
    "        self.targets += target\n",
    "\n",
    "    def add_video(self, cv2_video, identity, samples_per_video=16):\n",
    "        resampling_rate = int(cv2_video.get(cv2.CAP_PROP_FRAME_COUNT) / samples_per_video)\n",
    "        count = 0\n",
    "        failed = False\n",
    "        while cv2_video.isOpened():\n",
    "            success, frame = cv2_video.read()\n",
    "            if success and (failed or (count%resampling_rate == 0)):\n",
    "                img = cv2.cvtColor(frame, cv2.COLOR_BGR2RGB)\n",
    "                faces = self.face_cascade.detectMultiScale(img, 1.1, 4)\n",
    "                if len(faces) != 1:\n",
    "                    failed = True\n",
    "                    continue\n",
    "                (x, y, w, h) = faces[0]\n",
    "                self.features.append(cv2.resize(img[y:y+h,x:x+w], dsize=(dim,dim)))\n",
    "                self.targets.append(identity)\n",
    "                failed = False\n",
    "            elif not success:\n",
    "                break\n",
    "            count += 1\n",
    "\n",
    "    def complete_test(self, t_features, t_targets):\n",
    "        score = len(t_features)\n",
    "        under_min = 0\n",
    "        under_rep = 0\n",
    "        not_found = 0\n",
    "        for f, t in zip(t_features, t_targets):\n",
    "            output = self.recognize(f, skip_same=True)\n",
    "            if output != t:\n",
    "                if output == 'no_identity: under minimum':\n",
    "                    under_min += 1\n",
    "                elif output == 'no_identity: under representation':\n",
    "                    under_rep += 1\n",
    "                elif output == 'no_identity: not found':\n",
    "                    not_found += 1\n",
    "                score -= 1\n",
    "        print(\"Score:\", score/len(t_features))\n",
    "        print(\"Under minimum:\", under_min)\n",
    "        print(\"Under representation:\", under_rep)\n",
    "        print(\"Not found:\", not_found)"
   ]
  },
  {
   "cell_type": "code",
   "execution_count": 211,
   "id": "a8ccf8a2",
   "metadata": {},
   "outputs": [],
   "source": [
    "fr_model = face_recognition_model(train_features_fr, train_targets_fr)"
   ]
  },
  {
   "cell_type": "code",
   "execution_count": 212,
   "id": "95baeb3a",
   "metadata": {},
   "outputs": [
    {
     "data": {
      "text/plain": [
       "1268"
      ]
     },
     "metadata": {},
     "output_type": "display_data"
    },
    {
     "name": "stdout",
     "output_type": "stream",
     "text": [
      "Score: 0.9526813880126183\n",
      "Under minimum: 29\n",
      "Under representation: 0\n",
      "Not found: 24\n"
     ]
    }
   ],
   "source": [
    "display(len(train_features_fr))\n",
    "fr_model.complete_test(train_features_fr, train_targets_fr)"
   ]
  },
  {
   "cell_type": "code",
   "execution_count": 213,
   "id": "4504f1b0",
   "metadata": {},
   "outputs": [
    {
     "data": {
      "text/plain": [
       "1890"
      ]
     },
     "metadata": {},
     "output_type": "display_data"
    },
    {
     "name": "stdout",
     "output_type": "stream",
     "text": [
      "Score: 0.0\n",
      "Under minimum: 80\n",
      "Under representation: 9\n",
      "Not found: 1709\n"
     ]
    }
   ],
   "source": [
    "# Ninguno de las identidades del train set se repiten en el test set, el score debería acercarse a 0, idealmente siendo todo Not Found\n",
    "# El resultado es medio engañoso, 95% de denegar una identidad fuera de la BD\n",
    "display(len(test_features_fr))\n",
    "fr_model.complete_test(test_features_fr, test_targets_fr)"
   ]
  },
  {
   "cell_type": "code",
   "execution_count": 209,
   "id": "e0ea2e44",
   "metadata": {},
   "outputs": [
    {
     "data": {
      "text/plain": [
       "'no_identity: under representation'"
      ]
     },
     "execution_count": 209,
     "metadata": {},
     "output_type": "execute_result"
    }
   ],
   "source": [
    "fr_model.recognize(test_features_fr[40])"
   ]
  }
 ],
 "metadata": {
  "kernelspec": {
   "display_name": "Python 3.9.13 ('bigdata-2022-2')",
   "language": "python",
   "name": "python3"
  },
  "language_info": {
   "codemirror_mode": {
    "name": "ipython",
    "version": 3
   },
   "file_extension": ".py",
   "mimetype": "text/x-python",
   "name": "python",
   "nbconvert_exporter": "python",
   "pygments_lexer": "ipython3",
   "version": "3.9.13"
  },
  "vscode": {
   "interpreter": {
    "hash": "66f09b424765b63542405763d1a10db6c28a98e754f61b0d319e8110760975c0"
   }
  }
 },
 "nbformat": 4,
 "nbformat_minor": 5
}
