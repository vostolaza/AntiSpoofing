{
 "cells": [
  {
   "cell_type": "code",
   "execution_count": 3,
   "id": "f99bd436",
   "metadata": {},
   "outputs": [],
   "source": [
    "## import glob\n",
    "import cv2\n",
    "import matplotlib.pyplot as plt\n",
    "import numpy as np\n",
    "import os\n",
    "from tqdm import tqdm\n",
    "from PIL import Image\n",
    "import torch\n",
    "import torch.nn as nn\n"
   ]
  },
  {
   "cell_type": "code",
   "execution_count": 6,
   "id": "ce91c451",
   "metadata": {},
   "outputs": [],
   "source": [
    "# face_cascade = cv2.CascadeClassifier('haarcascade_frontalface_default.xml')\n",
    "\n",
    "train_path = \"CASIA_faceAntisp/train_release\"\n",
    "test_path = \"../../AntiSpoofing/CASIA_faceAntisp/test_release\"\n",
    "\n",
    "dim = 128"
   ]
  },
  {
   "cell_type": "code",
   "execution_count": 4,
   "id": "eda126f1",
   "metadata": {},
   "outputs": [],
   "source": [
    "class CNN(nn.Module):\n",
    "  def __init__(self , num_classes=10):\n",
    "    super(CNN, self).__init__()\n",
    "    self.layer1 = nn.Sequential(\n",
    "      nn.Conv2d(in_channels=3, out_channels=16, kernel_size=3, stride=1, padding=2) ,\n",
    "      nn.BatchNorm2d(16),\n",
    "      nn.ReLU(),\n",
    "      nn.MaxPool2d(kernel_size=2, stride=2))\n",
    "      # nn.Dropout(0.25))\n",
    "    self.layer2 = nn.Sequential(\n",
    "      nn.Conv2d(16, 32, kernel_size=5, stride=1, padding=2) ,\n",
    "      nn.BatchNorm2d(32),\n",
    "      nn.ReLU(),\n",
    "      nn.MaxPool2d(kernel_size=2, stride=2))\n",
    "      # nn.Dropout(0.25))\n",
    "    self.layer3 = nn.Sequential(\n",
    "      nn.Conv2d(32, 64, kernel_size=7, stride=1, padding=3) ,\n",
    "      nn.BatchNorm2d(64),\n",
    "      nn.ReLU(),\n",
    "      nn.MaxPool2d(kernel_size=2, stride=2))\n",
    "      # nn.Dropout(0.25))\n",
    "    self.layer4 = nn.Sequential(\n",
    "      nn.Conv2d(64, 128, kernel_size=11, stride=1, padding=5) ,\n",
    "      nn.BatchNorm2d(128),\n",
    "      nn.ReLU(),\n",
    "      nn.MaxPool2d(kernel_size=2, stride=2))\n",
    "      # nn.Dropout(0.25))\n",
    "    self.fc = nn.Linear(8192 , num_classes)\n",
    "    \n",
    "  def forward(self , x):\n",
    "    # print(\"Entro layer 1\")\n",
    "    out = self.layer1(x)\n",
    "    # print(\"Layer 1 Shape: \", out.shape)\n",
    "    out = self.layer2(out)\n",
    "    # print(\"Layer 2 Shape: \", out.shape)\n",
    "    # print(\"Paso layer 2\")\n",
    "    out = self.layer3(out)\n",
    "    # print(\"Layer 3 Shape: \", out.shape)\n",
    "    # print(\"Paso layer 3\")\n",
    "    out = self.layer4(out)\n",
    "    # print(\"Layer 4 Shape: \", out.shape)\n",
    "    # print(\"Paso layer 4\")\n",
    "    out = out.reshape(out.size(0) , -1)\n",
    "    # print(\"Reshape Shape: \", out.shape)\n",
    "    # print(\"Reshapeo\")\n",
    "    out = self.fc(out)\n",
    "    # print(\"FC Shape: \", out.shape)\n",
    "    return out"
   ]
  },
  {
   "cell_type": "code",
   "execution_count": 10,
   "id": "c1b67974",
   "metadata": {},
   "outputs": [],
   "source": [
    "def get_training_subject(path, samples_per_video):\n",
    "    real_videos = ['1.avi', '2.avi', 'HR_1.avi', 'HR_4.avi']\n",
    "    subject = []\n",
    "    target = []\n",
    "    face_cascade = cv2.CascadeClassifier('haarcascade_frontalface_default.xml')\n",
    "    for dir in os.listdir(os.path.join(path)):\n",
    "        cap = cv2.VideoCapture(os.path.join(path, dir))\n",
    "        resampling_rate = int(cap.get(cv2.CAP_PROP_FRAME_COUNT) / samples_per_video)\n",
    "        count = 0\n",
    "        failed = False\n",
    "        while cap.isOpened():\n",
    "            success, img = cap.read()\n",
    "            if success and (failed or (count%resampling_rate == 0)):\n",
    "                faces = face_cascade.detectMultiScale(cv2.cvtColor(img, cv2.COLOR_BGR2GRAY), 1.1, 4)\n",
    "                if len(faces) != 1:\n",
    "                    failed = True\n",
    "                    continue\n",
    "                (x, y, w, h) = faces[0]\n",
    "                subject.append(torch.Tensor(cv2.resize(img[y:y+h,x:x+w], dsize=(dim,dim))))\n",
    "                target.append(1 if dir in real_videos else 0)\n",
    "                failed = False\n",
    "            else:\n",
    "                break\n",
    "            count += 1\n",
    "    return subject, target\n",
    "\n",
    "def read_training_files(path, samples_per_video=16):\n",
    "    features = []\n",
    "    targets = []\n",
    "    for person in tqdm(os.listdir(path)):\n",
    "        f, t = get_training_subject(os.path.join(path,person), samples_per_video)\n",
    "        features += f\n",
    "        targets += t\n",
    "    return features, targets"
   ]
  },
  {
   "cell_type": "code",
   "execution_count": 6,
   "id": "4139d7c9",
   "metadata": {},
   "outputs": [
    {
     "name": "stderr",
     "output_type": "stream",
     "text": [
      "100%|██████████| 20/20 [00:25<00:00,  1.27s/it]\n"
     ]
    }
   ],
   "source": [
    "train_features, train_targets = read_training_files(train_path, samples_per_video=16)"
   ]
  },
  {
   "cell_type": "code",
   "execution_count": 11,
   "id": "332d10a4",
   "metadata": {},
   "outputs": [
    {
     "name": "stderr",
     "output_type": "stream",
     "text": [
      "100%|██████████| 30/30 [03:56<00:00,  7.88s/it]\n"
     ]
    }
   ],
   "source": [
    "test_features, test_targets = read_training_files(test_path, samples_per_video=16)"
   ]
  },
  {
   "cell_type": "code",
   "execution_count": 7,
   "id": "5985a2c6",
   "metadata": {},
   "outputs": [],
   "source": [
    "train_features = torch.stack(train_features)\n",
    "train_features = train_features.permute(0, 3, 1, 2)\n"
   ]
  },
  {
   "cell_type": "code",
   "execution_count": 8,
   "id": "5ac38727",
   "metadata": {},
   "outputs": [
    {
     "data": {
      "text/plain": [
       "torch.Size([240, 3, 128, 128])"
      ]
     },
     "execution_count": 8,
     "metadata": {},
     "output_type": "execute_result"
    }
   ],
   "source": [
    "train_features.shape"
   ]
  },
  {
   "cell_type": "code",
   "execution_count": 9,
   "id": "9c50324f",
   "metadata": {},
   "outputs": [],
   "source": [
    "train_targets = torch.Tensor(train_targets)"
   ]
  },
  {
   "cell_type": "code",
   "execution_count": 10,
   "id": "26fb555e",
   "metadata": {},
   "outputs": [
    {
     "name": "stdout",
     "output_type": "stream",
     "text": [
      "cuda:0\n"
     ]
    }
   ],
   "source": [
    "device = torch.device('cuda:0' if torch.cuda.is_available() else 'cpu')\n",
    "print(device)\n"
   ]
  },
  {
   "cell_type": "code",
   "execution_count": 11,
   "id": "c2525424",
   "metadata": {},
   "outputs": [],
   "source": [
    "num_classes = 2\n",
    "learning_rate = 0.001\n",
    "num_epochs = 20\n"
   ]
  },
  {
   "cell_type": "code",
   "execution_count": 12,
   "id": "0063b2cf",
   "metadata": {},
   "outputs": [],
   "source": [
    "def train(model, optimizer, loss_fn, num_epochs):\n",
    "  # train the model\n",
    "  list_loss= []\n",
    "  avg_list_loss = []\n",
    "\n",
    "  for epoch in range(num_epochs):\n",
    "    images = train_features.to(device)\n",
    "    labels = train_targets.type(torch.LongTensor).to(device)\n",
    "    output = model(images)\n",
    "    # print(output)\n",
    "    loss   = loss_fn(output, labels)\n",
    "    # change the params\n",
    "    optimizer.zero_grad()\n",
    "    loss.backward()\n",
    "    optimizer.step()\n",
    "\n",
    "    list_loss.append(loss.item())\n",
    "            \n",
    "    print ('Epoch [{}/{}], Loss: {:.4f}' \n",
    "                  .format(epoch+1, num_epochs, loss.item()))\n",
    "\n",
    "    avg_list_loss.append(np.mean(list_loss))\n",
    "\n",
    "    list_loss = []\n",
    "    \n",
    "  print('Finished Training Trainset')\n",
    "  return avg_list_loss\n"
   ]
  },
  {
   "cell_type": "code",
   "execution_count": 13,
   "id": "8c1b27c7",
   "metadata": {},
   "outputs": [],
   "source": [
    "model = CNN(num_classes).to(device)\n",
    "loss_fn = nn.CrossEntropyLoss()\n",
    "optimizer = torch.optim.Adam(model.parameters(), lr=learning_rate)\n"
   ]
  },
  {
   "cell_type": "code",
   "execution_count": 14,
   "id": "5ae74773",
   "metadata": {},
   "outputs": [
    {
     "name": "stdout",
     "output_type": "stream",
     "text": [
      "Epoch [1/100], Loss: 0.8388\n",
      "Epoch [2/100], Loss: 5.2006\n",
      "Epoch [3/100], Loss: 1.2402\n",
      "Epoch [4/100], Loss: 0.9675\n",
      "Epoch [5/100], Loss: 0.7529\n",
      "Epoch [6/100], Loss: 0.7825\n",
      "Epoch [7/100], Loss: 0.7412\n",
      "Epoch [8/100], Loss: 0.6092\n",
      "Epoch [9/100], Loss: 0.5641\n",
      "Epoch [10/100], Loss: 0.5776\n",
      "Epoch [11/100], Loss: 0.5712\n",
      "Epoch [12/100], Loss: 0.5468\n",
      "Epoch [13/100], Loss: 0.5138\n",
      "Epoch [14/100], Loss: 0.4821\n",
      "Epoch [15/100], Loss: 0.4590\n",
      "Epoch [16/100], Loss: 0.4604\n",
      "Epoch [17/100], Loss: 0.4744\n",
      "Epoch [18/100], Loss: 0.4625\n",
      "Epoch [19/100], Loss: 0.4305\n",
      "Epoch [20/100], Loss: 0.4189\n",
      "Epoch [21/100], Loss: 0.4245\n",
      "Epoch [22/100], Loss: 0.4197\n",
      "Epoch [23/100], Loss: 0.4104\n",
      "Epoch [24/100], Loss: 0.4010\n",
      "Epoch [25/100], Loss: 0.3912\n",
      "Epoch [26/100], Loss: 0.3809\n",
      "Epoch [27/100], Loss: 0.3744\n",
      "Epoch [28/100], Loss: 0.3705\n",
      "Epoch [29/100], Loss: 0.3643\n",
      "Epoch [30/100], Loss: 0.3554\n",
      "Epoch [31/100], Loss: 0.3462\n",
      "Epoch [32/100], Loss: 0.3395\n",
      "Epoch [33/100], Loss: 0.3341\n",
      "Epoch [34/100], Loss: 0.3268\n",
      "Epoch [35/100], Loss: 0.3164\n",
      "Epoch [36/100], Loss: 0.3050\n",
      "Epoch [37/100], Loss: 0.2958\n",
      "Epoch [38/100], Loss: 0.2883\n",
      "Epoch [39/100], Loss: 0.2801\n",
      "Epoch [40/100], Loss: 0.2717\n",
      "Epoch [41/100], Loss: 0.2622\n",
      "Epoch [42/100], Loss: 0.2510\n",
      "Epoch [43/100], Loss: 0.2391\n",
      "Epoch [44/100], Loss: 0.2280\n",
      "Epoch [45/100], Loss: 0.2183\n",
      "Epoch [46/100], Loss: 0.2084\n",
      "Epoch [47/100], Loss: 0.1965\n",
      "Epoch [48/100], Loss: 0.1841\n",
      "Epoch [49/100], Loss: 0.1745\n",
      "Epoch [50/100], Loss: 0.1684\n",
      "Epoch [51/100], Loss: 0.1617\n",
      "Epoch [52/100], Loss: 0.1540\n",
      "Epoch [53/100], Loss: 0.1477\n",
      "Epoch [54/100], Loss: 0.1414\n",
      "Epoch [55/100], Loss: 0.1357\n",
      "Epoch [56/100], Loss: 0.1309\n",
      "Epoch [57/100], Loss: 0.1248\n",
      "Epoch [58/100], Loss: 0.1201\n",
      "Epoch [59/100], Loss: 0.1147\n",
      "Epoch [60/100], Loss: 0.1100\n",
      "Epoch [61/100], Loss: 0.1053\n",
      "Epoch [62/100], Loss: 0.1012\n",
      "Epoch [63/100], Loss: 0.0972\n",
      "Epoch [64/100], Loss: 0.0935\n",
      "Epoch [65/100], Loss: 0.0893\n",
      "Epoch [66/100], Loss: 0.0858\n",
      "Epoch [67/100], Loss: 0.0818\n",
      "Epoch [68/100], Loss: 0.0786\n",
      "Epoch [69/100], Loss: 0.0749\n",
      "Epoch [70/100], Loss: 0.0717\n",
      "Epoch [71/100], Loss: 0.0678\n",
      "Epoch [72/100], Loss: 0.0644\n",
      "Epoch [73/100], Loss: 0.0607\n",
      "Epoch [74/100], Loss: 0.0575\n",
      "Epoch [75/100], Loss: 0.0544\n",
      "Epoch [76/100], Loss: 0.0512\n",
      "Epoch [77/100], Loss: 0.0485\n",
      "Epoch [78/100], Loss: 0.0455\n",
      "Epoch [79/100], Loss: 0.0430\n",
      "Epoch [80/100], Loss: 0.0404\n",
      "Epoch [81/100], Loss: 0.0380\n",
      "Epoch [82/100], Loss: 0.0356\n",
      "Epoch [83/100], Loss: 0.0332\n",
      "Epoch [84/100], Loss: 0.0311\n",
      "Epoch [85/100], Loss: 0.0289\n",
      "Epoch [86/100], Loss: 0.0270\n",
      "Epoch [87/100], Loss: 0.0251\n",
      "Epoch [88/100], Loss: 0.0233\n",
      "Epoch [89/100], Loss: 0.0217\n",
      "Epoch [90/100], Loss: 0.0202\n",
      "Epoch [91/100], Loss: 0.0187\n",
      "Epoch [92/100], Loss: 0.0174\n",
      "Epoch [93/100], Loss: 0.0161\n",
      "Epoch [94/100], Loss: 0.0150\n",
      "Epoch [95/100], Loss: 0.0139\n",
      "Epoch [96/100], Loss: 0.0128\n",
      "Epoch [97/100], Loss: 0.0119\n",
      "Epoch [98/100], Loss: 0.0110\n",
      "Epoch [99/100], Loss: 0.0103\n",
      "Epoch [100/100], Loss: 0.0095\n",
      "Finished Training Trainset\n"
     ]
    }
   ],
   "source": [
    "avg_list_loss = train(model, optimizer, loss_fn, 100)\n"
   ]
  },
  {
   "cell_type": "code",
   "execution_count": 15,
   "id": "39dc0c4b",
   "metadata": {},
   "outputs": [
    {
     "data": {
      "text/plain": [
       "[<matplotlib.lines.Line2D at 0x201806d6370>]"
      ]
     },
     "execution_count": 15,
     "metadata": {},
     "output_type": "execute_result"
    },
    {
     "data": {
      "image/png": "[encoded data removed]",
      "text/plain": [
       "<Figure size 432x288 with 1 Axes>"
      ]
     },
     "metadata": {
      "needs_background": "light"
     },
     "output_type": "display_data"
    }
   ],
   "source": [
    "#plot the loss\n",
    "plt.plot(avg_list_loss)"
   ]
  }
 ],
 "metadata": {
  "kernelspec": {
   "display_name": "Python 3.9.13 ('bigdata-2022-2')",
   "language": "python",
   "name": "python3"
  },
  "language_info": {
   "codemirror_mode": {
    "name": "ipython",
    "version": 3
   },
   "file_extension": ".py",
   "mimetype": "text/x-python",
   "name": "python",
   "nbconvert_exporter": "python",
   "pygments_lexer": "ipython3",
   "version": "3.9.13"
  },
  "vscode": {
   "interpreter": {
    "hash": "66f09b424765b63542405763d1a10db6c28a98e754f61b0d319e8110760975c0"
   }
  }
 },
 "nbformat": 4,
 "nbformat_minor": 5
}
