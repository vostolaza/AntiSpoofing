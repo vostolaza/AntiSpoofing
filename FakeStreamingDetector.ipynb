{
 "cells": [
  {
   "cell_type": "code",
   "execution_count": 1,
   "id": "f99bd436",
   "metadata": {},
   "outputs": [
    {
     "name": "stderr",
     "output_type": "stream",
     "text": [
      "c:\\Users\\usuario\\AppData\\Local\\Programs\\Python\\Python38\\lib\\site-packages\\tqdm\\auto.py:22: TqdmWarning: IProgress not found. Please update jupyter and ipywidgets. See https://ipywidgets.readthedocs.io/en/stable/user_install.html\n",
      "  from .autonotebook import tqdm as notebook_tqdm\n"
     ]
    }
   ],
   "source": [
    "## import glob\n",
    "import cv2\n",
    "import matplotlib.pyplot as plt\n",
    "import numpy as np\n",
    "import os\n",
    "from tqdm import tqdm\n",
    "from PIL import Image\n",
    "import torch\n",
    "import torch.nn as nn\n"
   ]
  },
  {
   "cell_type": "code",
   "execution_count": 2,
   "id": "ce91c451",
   "metadata": {},
   "outputs": [],
   "source": [
    "# face_cascade = cv2.CascadeClassifier('haarcascade_frontalface_default.xml')\n",
    "\n",
    "train_path = \"CASIA_faceAntisp/train_release\"\n",
    "test_path = \"CASIA_faceAntisp/test_release\"\n",
    "\n",
    "dim = 128"
   ]
  },
  {
   "cell_type": "code",
   "execution_count": 3,
   "id": "eda126f1",
   "metadata": {},
   "outputs": [],
   "source": [
    "class CNN(nn.Module):\n",
    "  def __init__(self , num_classes=10):\n",
    "    super(CNN, self).__init__()\n",
    "    self.layer1 = nn.Sequential(\n",
    "      nn.Conv2d(in_channels=3, out_channels=16, kernel_size=3, stride=1, padding=2) ,\n",
    "      nn.BatchNorm2d(16),\n",
    "      nn.ReLU(),\n",
    "      nn.MaxPool2d(kernel_size=2, stride=2))\n",
    "      # nn.Dropout(0.25))\n",
    "    self.layer2 = nn.Sequential(\n",
    "      nn.Conv2d(16, 32, kernel_size=5, stride=1, padding=2) ,\n",
    "      nn.BatchNorm2d(32),\n",
    "      nn.ReLU(),\n",
    "      nn.MaxPool2d(kernel_size=2, stride=2))\n",
    "      # nn.Dropout(0.25))\n",
    "    self.layer3 = nn.Sequential(\n",
    "      nn.Conv2d(32, 64, kernel_size=7, stride=1, padding=3) ,\n",
    "      nn.BatchNorm2d(64),\n",
    "      nn.ReLU(),\n",
    "      nn.MaxPool2d(kernel_size=2, stride=2))\n",
    "      # nn.Dropout(0.25))\n",
    "    self.layer4 = nn.Sequential(\n",
    "      nn.Conv2d(64, 128, kernel_size=11, stride=1, padding=5) ,\n",
    "      nn.BatchNorm2d(128),\n",
    "      nn.ReLU(),\n",
    "      nn.MaxPool2d(kernel_size=2, stride=2))\n",
    "      # nn.Dropout(0.25))\n",
    "    self.fc = nn.Linear(8192 , num_classes)\n",
    "    \n",
    "  def forward(self , x):\n",
    "    # print(\"Entro layer 1\")\n",
    "    out = self.layer1(x)\n",
    "    # print(\"Layer 1 Shape: \", out.shape)\n",
    "    out = self.layer2(out)\n",
    "    # print(\"Layer 2 Shape: \", out.shape)\n",
    "    # print(\"Paso layer 2\")\n",
    "    out = self.layer3(out)\n",
    "    # print(\"Layer 3 Shape: \", out.shape)\n",
    "    # print(\"Paso layer 3\")\n",
    "    out = self.layer4(out)\n",
    "    # print(\"Layer 4 Shape: \", out.shape)\n",
    "    # print(\"Paso layer 4\")\n",
    "    out = out.reshape(out.size(0) , -1)\n",
    "    # print(\"Reshape Shape: \", out.shape)\n",
    "    # print(\"Reshapeo\")\n",
    "    out = self.fc(out)\n",
    "    # print(\"FC Shape: \", out.shape)\n",
    "    return out"
   ]
  },
  {
   "cell_type": "code",
   "execution_count": 4,
   "id": "c1b67974",
   "metadata": {},
   "outputs": [],
   "source": [
    "def get_training_subject(path, samples_per_video):\n",
    "    real_videos = ['1.avi', '2.avi', 'HR_1.avi', 'HR_4.avi']\n",
    "    subject = []\n",
    "    target = []\n",
    "    face_cascade = cv2.CascadeClassifier('haarcascade_frontalface_default.xml')\n",
    "    for dir in os.listdir(os.path.join(path)):\n",
    "        cap = cv2.VideoCapture(os.path.join(path, dir))\n",
    "        resampling_rate = int(cap.get(cv2.CAP_PROP_FRAME_COUNT) / samples_per_video)\n",
    "        count = 0\n",
    "        failed = False\n",
    "        while cap.isOpened():\n",
    "            success, img = cap.read()\n",
    "            if success and (failed or (count%resampling_rate == 0)):\n",
    "                faces = face_cascade.detectMultiScale(cv2.cvtColor(img, cv2.COLOR_BGR2GRAY), 1.1, 4)\n",
    "                if len(faces) != 1:\n",
    "                    failed = True\n",
    "                    continue\n",
    "                (x, y, w, h) = faces[0]\n",
    "                subject.append(torch.Tensor(cv2.resize(img[y:y+h,x:x+w], dsize=(dim,dim))))\n",
    "                target.append(1 if dir in real_videos else 0)\n",
    "                failed = False\n",
    "            else:\n",
    "                break\n",
    "            count += 1\n",
    "    return subject, target\n",
    "\n",
    "def read_training_files(path, samples_per_video=16):\n",
    "    features = []\n",
    "    targets = []\n",
    "    for person in tqdm(os.listdir(path)):\n",
    "        f, t = get_training_subject(os.path.join(path,person), samples_per_video)\n",
    "        features += f\n",
    "        targets += t\n",
    "    return features, targets"
   ]
  },
  {
   "cell_type": "code",
   "execution_count": 5,
   "id": "4139d7c9",
   "metadata": {},
   "outputs": [
    {
     "name": "stderr",
     "output_type": "stream",
     "text": [
      "100%|██████████| 20/20 [00:29<00:00,  1.48s/it]\n"
     ]
    }
   ],
   "source": [
    "train_features, train_targets = read_training_files(train_path, samples_per_video=16)"
   ]
  },
  {
   "cell_type": "code",
   "execution_count": 6,
   "id": "332d10a4",
   "metadata": {},
   "outputs": [
    {
     "name": "stderr",
     "output_type": "stream",
     "text": [
      "100%|██████████| 30/30 [01:48<00:00,  3.61s/it]\n"
     ]
    }
   ],
   "source": [
    "test_features, test_targets = read_training_files(test_path, samples_per_video=16)"
   ]
  },
  {
   "cell_type": "code",
   "execution_count": 7,
   "id": "5985a2c6",
   "metadata": {},
   "outputs": [],
   "source": [
    "train_features = torch.stack(train_features)\n",
    "train_features = train_features.permute(0, 3, 1, 2)\n",
    "test_features = torch.stack(test_features)\n",
    "test_features = test_features.permute(0, 3, 1, 2)"
   ]
  },
  {
   "cell_type": "code",
   "execution_count": 8,
   "id": "5ac38727",
   "metadata": {},
   "outputs": [
    {
     "data": {
      "text/plain": [
       "torch.Size([240, 3, 128, 128])"
      ]
     },
     "execution_count": 8,
     "metadata": {},
     "output_type": "execute_result"
    }
   ],
   "source": [
    "train_features.shape"
   ]
  },
  {
   "cell_type": "code",
   "execution_count": 9,
   "id": "9c50324f",
   "metadata": {},
   "outputs": [],
   "source": [
    "train_targets = torch.Tensor(train_targets)\n",
    "test_targets = torch.Tensor(test_targets)"
   ]
  },
  {
   "cell_type": "code",
   "execution_count": 10,
   "id": "26fb555e",
   "metadata": {},
   "outputs": [
    {
     "name": "stdout",
     "output_type": "stream",
     "text": [
      "cuda:0\n"
     ]
    }
   ],
   "source": [
    "device = torch.device('cuda:0' if torch.cuda.is_available() else 'cpu')\n",
    "print(device)\n"
   ]
  },
  {
   "cell_type": "code",
   "execution_count": 11,
   "id": "c2525424",
   "metadata": {},
   "outputs": [],
   "source": [
    "num_classes = 2\n",
    "learning_rate = 0.001\n",
    "num_epochs = 20\n"
   ]
  },
  {
   "cell_type": "code",
   "execution_count": 12,
   "id": "0063b2cf",
   "metadata": {},
   "outputs": [],
   "source": [
    "def train(model, optimizer, loss_fn, num_epochs):\n",
    "  # train the model\n",
    "  list_loss= []\n",
    "  avg_list_loss = []\n",
    "\n",
    "  for epoch in range(num_epochs):\n",
    "    images = train_features.to(device)\n",
    "    labels = train_targets.type(torch.LongTensor).to(device)\n",
    "    output = model(images)\n",
    "    # print(output)\n",
    "    loss   = loss_fn(output, labels)\n",
    "    # change the params\n",
    "    optimizer.zero_grad()\n",
    "    loss.backward()\n",
    "    optimizer.step()\n",
    "\n",
    "    list_loss.append(loss.item())\n",
    "            \n",
    "    print ('Epoch [{}/{}], Loss: {:.4f}' \n",
    "                  .format(epoch+1, num_epochs, loss.item()))\n",
    "\n",
    "    avg_list_loss.append(np.mean(list_loss))\n",
    "\n",
    "    list_loss = []\n",
    "    \n",
    "  print('Finished Training Trainset')\n",
    "  return avg_list_loss\n"
   ]
  },
  {
   "cell_type": "code",
   "execution_count": 13,
   "id": "8c1b27c7",
   "metadata": {},
   "outputs": [],
   "source": [
    "model = CNN(num_classes).to(device)\n",
    "loss_fn = nn.CrossEntropyLoss()\n",
    "optimizer = torch.optim.Adam(model.parameters(), lr=learning_rate)\n"
   ]
  },
  {
   "cell_type": "code",
   "execution_count": 14,
   "id": "5ae74773",
   "metadata": {},
   "outputs": [
    {
     "name": "stdout",
     "output_type": "stream",
     "text": [
      "Epoch [1/100], Loss: 0.8061\n",
      "Epoch [2/100], Loss: 6.4806\n",
      "Epoch [3/100], Loss: 1.8838\n",
      "Epoch [4/100], Loss: 1.0938\n",
      "Epoch [5/100], Loss: 0.9600\n",
      "Epoch [6/100], Loss: 1.0213\n",
      "Epoch [7/100], Loss: 0.9383\n",
      "Epoch [8/100], Loss: 0.6427\n",
      "Epoch [9/100], Loss: 0.5575\n",
      "Epoch [10/100], Loss: 0.5651\n",
      "Epoch [11/100], Loss: 0.5778\n",
      "Epoch [12/100], Loss: 0.5815\n",
      "Epoch [13/100], Loss: 0.5723\n",
      "Epoch [14/100], Loss: 0.5318\n",
      "Epoch [15/100], Loss: 0.4691\n",
      "Epoch [16/100], Loss: 0.4151\n",
      "Epoch [17/100], Loss: 0.3932\n",
      "Epoch [18/100], Loss: 0.4164\n",
      "Epoch [19/100], Loss: 0.4510\n",
      "Epoch [20/100], Loss: 0.4394\n",
      "Epoch [21/100], Loss: 0.3956\n",
      "Epoch [22/100], Loss: 0.3651\n",
      "Epoch [23/100], Loss: 0.3558\n",
      "Epoch [24/100], Loss: 0.3576\n",
      "Epoch [25/100], Loss: 0.3624\n",
      "Epoch [26/100], Loss: 0.3622\n",
      "Epoch [27/100], Loss: 0.3515\n",
      "Epoch [28/100], Loss: 0.3321\n",
      "Epoch [29/100], Loss: 0.3120\n",
      "Epoch [30/100], Loss: 0.2995\n",
      "Epoch [31/100], Loss: 0.2978\n",
      "Epoch [32/100], Loss: 0.3020\n",
      "Epoch [33/100], Loss: 0.3024\n",
      "Epoch [34/100], Loss: 0.2950\n",
      "Epoch [35/100], Loss: 0.2846\n",
      "Epoch [36/100], Loss: 0.2765\n",
      "Epoch [37/100], Loss: 0.2717\n",
      "Epoch [38/100], Loss: 0.2691\n",
      "Epoch [39/100], Loss: 0.2665\n",
      "Epoch [40/100], Loss: 0.2624\n",
      "Epoch [41/100], Loss: 0.2563\n",
      "Epoch [42/100], Loss: 0.2489\n",
      "Epoch [43/100], Loss: 0.2420\n",
      "Epoch [44/100], Loss: 0.2370\n",
      "Epoch [45/100], Loss: 0.2337\n",
      "Epoch [46/100], Loss: 0.2304\n",
      "Epoch [47/100], Loss: 0.2256\n",
      "Epoch [48/100], Loss: 0.2192\n",
      "Epoch [49/100], Loss: 0.2127\n",
      "Epoch [50/100], Loss: 0.2071\n",
      "Epoch [51/100], Loss: 0.2023\n",
      "Epoch [52/100], Loss: 0.1976\n",
      "Epoch [53/100], Loss: 0.1927\n",
      "Epoch [54/100], Loss: 0.1874\n",
      "Epoch [55/100], Loss: 0.1818\n",
      "Epoch [56/100], Loss: 0.1760\n",
      "Epoch [57/100], Loss: 0.1700\n",
      "Epoch [58/100], Loss: 0.1642\n",
      "Epoch [59/100], Loss: 0.1586\n",
      "Epoch [60/100], Loss: 0.1527\n",
      "Epoch [61/100], Loss: 0.1461\n",
      "Epoch [62/100], Loss: 0.1392\n",
      "Epoch [63/100], Loss: 0.1327\n",
      "Epoch [64/100], Loss: 0.1265\n",
      "Epoch [65/100], Loss: 0.1205\n",
      "Epoch [66/100], Loss: 0.1147\n",
      "Epoch [67/100], Loss: 0.1090\n",
      "Epoch [68/100], Loss: 0.1033\n",
      "Epoch [69/100], Loss: 0.0976\n",
      "Epoch [70/100], Loss: 0.0923\n",
      "Epoch [71/100], Loss: 0.0870\n",
      "Epoch [72/100], Loss: 0.0818\n",
      "Epoch [73/100], Loss: 0.0768\n",
      "Epoch [74/100], Loss: 0.0720\n",
      "Epoch [75/100], Loss: 0.0673\n",
      "Epoch [76/100], Loss: 0.0628\n",
      "Epoch [77/100], Loss: 0.0585\n",
      "Epoch [78/100], Loss: 0.0544\n",
      "Epoch [79/100], Loss: 0.0505\n",
      "Epoch [80/100], Loss: 0.0466\n",
      "Epoch [81/100], Loss: 0.0429\n",
      "Epoch [82/100], Loss: 0.0393\n",
      "Epoch [83/100], Loss: 0.0358\n",
      "Epoch [84/100], Loss: 0.0327\n",
      "Epoch [85/100], Loss: 0.0300\n",
      "Epoch [86/100], Loss: 0.0277\n",
      "Epoch [87/100], Loss: 0.0256\n",
      "Epoch [88/100], Loss: 0.0236\n",
      "Epoch [89/100], Loss: 0.0218\n",
      "Epoch [90/100], Loss: 0.0201\n",
      "Epoch [91/100], Loss: 0.0185\n",
      "Epoch [92/100], Loss: 0.0171\n",
      "Epoch [93/100], Loss: 0.0157\n",
      "Epoch [94/100], Loss: 0.0143\n",
      "Epoch [95/100], Loss: 0.0131\n",
      "Epoch [96/100], Loss: 0.0119\n",
      "Epoch [97/100], Loss: 0.0109\n",
      "Epoch [98/100], Loss: 0.0100\n",
      "Epoch [99/100], Loss: 0.0092\n",
      "Epoch [100/100], Loss: 0.0085\n",
      "Finished Training Trainset\n"
     ]
    }
   ],
   "source": [
    "avg_list_loss = train(model, optimizer, loss_fn, 100)\n"
   ]
  },
  {
   "cell_type": "code",
   "execution_count": 15,
   "id": "39dc0c4b",
   "metadata": {},
   "outputs": [
    {
     "data": {
      "text/plain": [
       "[<matplotlib.lines.Line2D at 0x1c35a900490>]"
      ]
     },
     "execution_count": 15,
     "metadata": {},
     "output_type": "execute_result"
    },
    {
     "data": {
      "image/png": "[encoded data removed]",
      "text/plain": [
       "<Figure size 432x288 with 1 Axes>"
      ]
     },
     "metadata": {
      "needs_background": "light"
     },
     "output_type": "display_data"
    }
   ],
   "source": [
    "#plot the loss\n",
    "plt.plot(avg_list_loss)"
   ]
  },
  {
   "cell_type": "code",
   "execution_count": 16,
   "id": "5b354841",
   "metadata": {},
   "outputs": [
    {
     "data": {
      "text/plain": [
       "0.903954802259887"
      ]
     },
     "execution_count": 16,
     "metadata": {},
     "output_type": "execute_result"
    }
   ],
   "source": [
    "total, correct = 0, 0\n",
    "with torch.no_grad():\n",
    "    images = test_features.to(device)\n",
    "    labels = test_targets.type(torch.LongTensor).to(device)\n",
    "    outputs = model(images)\n",
    "\n",
    "\n",
    "o = []\n",
    "for output in outputs:\n",
    "    o.append(0) if output[0] > output[1] else o.append(1)\n",
    "\n",
    "for i in range(len(o)):\n",
    "    if o[i] == labels[i]:\n",
    "        correct += 1\n",
    "    total += 1\n",
    "\n",
    "correct/total\n"
   ]
  },
  {
   "cell_type": "code",
   "execution_count": 17,
   "id": "86fb9820",
   "metadata": {},
   "outputs": [],
   "source": [
    "#export model into pickle file\n",
    "torch.save(model, 'model.pt')"
   ]
  }
 ],
 "metadata": {
  "kernelspec": {
   "display_name": "Python 3.8.3 64-bit",
   "language": "python",
   "name": "python3"
  },
  "language_info": {
   "codemirror_mode": {
    "name": "ipython",
    "version": 3
   },
   "file_extension": ".py",
   "mimetype": "text/x-python",
   "name": "python",
   "nbconvert_exporter": "python",
   "pygments_lexer": "ipython3",
   "version": "3.8.3"
  },
  "vscode": {
   "interpreter": {
    "hash": "fce1d45328fd8024ce515f0ae0f0a25e82c54d2a05344803a525f4d98aa6e669"
   }
  }
 },
 "nbformat": 4,
 "nbformat_minor": 5
}
